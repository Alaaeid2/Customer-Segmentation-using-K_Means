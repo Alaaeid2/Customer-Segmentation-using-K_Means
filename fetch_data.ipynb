{
 "cells": [
  {
   "cell_type": "code",
   "execution_count": 1,
   "id": "df99db49",
   "metadata": {},
   "outputs": [],
   "source": [
    "from newsapi import NewsApiClient\n",
    "import apikey\n",
    "import datetime as dt\n",
    "import pandas as pd"
   ]
  },
  {
   "cell_type": "code",
   "execution_count": 3,
   "id": "e00a8149",
   "metadata": {},
   "outputs": [],
   "source": [
    "newsapi= NewsApiClient(api_key='8ffea00249a84f83a04a8afd43913361')"
   ]
  },
  {
   "cell_type": "code",
   "execution_count": 14,
   "id": "9192190e",
   "metadata": {},
   "outputs": [],
   "source": [
    "top_headlines = newsapi.get_top_headlines(category='sports',language='en',country='us')\n"
   ]
  },
  {
   "cell_type": "code",
   "execution_count": 307,
   "id": "291e1b40",
   "metadata": {},
   "outputs": [],
   "source": [
    "#all_articles = newsapi.get_everything(q='bitcoin',\n",
    "    #                                  sources='bbc-news,the-verge',\n",
    "     #                                 domains='bbc.co.uk,techcrunch.com',\n",
    "      #                                language='en',\n",
    "       #                               sort_by='relevancy',\n",
    "        #                              page=2)"
   ]
  },
  {
   "cell_type": "code",
   "execution_count": 17,
   "id": "dfc668fd",
   "metadata": {},
   "outputs": [
    {
     "data": {
      "text/plain": [
       "dict_keys(['status', 'totalResults', 'articles'])"
      ]
     },
     "execution_count": 17,
     "metadata": {},
     "output_type": "execute_result"
    }
   ],
   "source": [
    "top_headlines.keys()"
   ]
  },
  {
   "cell_type": "code",
   "execution_count": 18,
   "id": "aa60aa29",
   "metadata": {},
   "outputs": [
    {
     "data": {
      "text/plain": [
       "66"
      ]
     },
     "execution_count": 18,
     "metadata": {},
     "output_type": "execute_result"
    }
   ],
   "source": [
    "top_headlines['totalResults']"
   ]
  },
  {
   "cell_type": "code",
   "execution_count": 19,
   "id": "ca868ea7",
   "metadata": {},
   "outputs": [
    {
     "data": {
      "text/plain": [
       "'ok'"
      ]
     },
     "execution_count": 19,
     "metadata": {},
     "output_type": "execute_result"
    }
   ],
   "source": [
    "top_headlines['status']"
   ]
  },
  {
   "cell_type": "code",
   "execution_count": 20,
   "id": "3ec84398",
   "metadata": {},
   "outputs": [
    {
     "data": {
      "text/plain": [
       "[{'source': {'id': None, 'name': 'ESPN'},\n",
       "  'author': 'ESPN',\n",
       "  'title': 'Arsenal sign USMNT goalkeeper Matt Turner from New England Revolution - ESPN',\n",
       "  'description': \"Arsenal have completed the signing of United States men's national team goalkeeper Matt Turner, the club announced on Monday.\",\n",
       "  'url': 'https://www.espn.com/soccer/soccer-transfers/story/4691248/arsenal-sign-usmnts-matt-turner-from-new-england-revolution',\n",
       "  'urlToImage': 'https://a.espncdn.com/combiner/i?img=%2Fphoto%2F2022%2F0627%2Fr1029561_1296x729_16%2D9.jpg',\n",
       "  'publishedAt': '2022-06-27T11:44:09Z',\n",
       "  'content': \"Arsenal have completed the signing of United States men's national team goalkeeper Matt Turner, the club announced on Monday.\\r\\nThe 28-year-old agreed terms to join the Premier League side from the Ne… [+2344 chars]\"},\n",
       " {'source': {'id': 'cnn', 'name': 'CNN'},\n",
       "  'author': 'CNN Sport staff',\n",
       "  'title': 'Mass brawl and eight ejections overshadow Los Angeles Angels win over the Seattle Mariners - CNN',\n",
       "  'description': \"The Los Angeles Angels' win over the Seattle Mariners in the MLB on Sunday was overshadowed by a mass brawl that broke out between both teams in the second inning.\",\n",
       "  'url': 'https://www.cnn.com/2022/06/27/sport/seattle-mariners-los-angeles-angels-mlb-mass-brawl-spt-intl/index.html',\n",
       "  'urlToImage': 'https://cdn.cnn.com/cnnnext/dam/assets/220627091450-mariners-angels-brawl-super-tease.jpg',\n",
       "  'publishedAt': '2022-06-27T09:00:00Z',\n",
       "  'content': None},\n",
       " {'source': {'id': None, 'name': 'Pitcherlist.com'},\n",
       "  'author': 'www.Facebook.com/PitcherList',\n",
       "  'title': 'Hello Urquidy - Pitcher List',\n",
       "  'description': 'Nick Pollack reviews every starting pitcher performance from Sunday.',\n",
       "  'url': 'https://www.pitcherlist.com/sp-roundup-6-26-22/',\n",
       "  'urlToImage': 'https://www.pitcherlist.com/wp-content/uploads/2022/06/2022.06.26-SP-Roundup-Urquidy.jpg.png',\n",
       "  'publishedAt': '2022-06-27T06:19:01Z',\n",
       "  'content': 'Welcome to the SP Roundup, my daily fantasy baseball article reviewing every starting pitcher’s performance from every Sunday game. I apologize for the jokes written in my delirium in advance. Have q… [+12737 chars]'},\n",
       " {'source': {'id': None, 'name': 'New York Times'},\n",
       "  'author': 'David Waldstein',\n",
       "  'title': 'Colorado Avalanche Unseat Tampa Bay to Win the Stanley Cup - The New York Times',\n",
       "  'description': 'The Avalanche took the lead in the second period to win their first title since 2001 and end the Lightning’s bid for a third consecutive title. They did it convincingly, never facing elimination.',\n",
       "  'url': 'https://www.nytimes.com/2022/06/26/sports/colorado-avalanche-tampa-bay-lightning-game-6-stanley-cup.html',\n",
       "  'urlToImage': 'https://static01.nyt.com/images/2022/06/26/multimedia/26nhl-avsbolts-g6-landeskog-cup/26nhl-avsbolts-g6-landeskog-cup-facebookJumbo.jpg',\n",
       "  'publishedAt': '2022-06-27T06:01:00Z',\n",
       "  'content': 'When asked during a television interview what other teams could learn from the Avalanche, Landeskog said, Go out and find a Cale Makar somewhere.\\r\\nBut other superb players, like Landeskog, center Nat… [+904 chars]'},\n",
       " {'source': {'id': None, 'name': 'NBCSports.com'},\n",
       "  'author': 'Mike Hembree',\n",
       "  'title': 'What drivers said at Nashville Superspeedway - NASCAR on NBC Sports',\n",
       "  'description': \"What drivers said after Sunday's Cup race at Nashville Superspeedway, where Chase Elliott won for the second time this season.\",\n",
       "  'url': 'https://nascar.nbcsports.com/2022/06/27/nascar-what-drivers-said-at-nashville-superspeedway/',\n",
       "  'urlToImage': 'https://nascar.nbcsports.com/wp-content/uploads/sites/9/2022/06/GettyImages-1405336232.jpg?resize=1024,772',\n",
       "  'publishedAt': '2022-06-27T05:18:00Z',\n",
       "  'content': 'Here is what drivers had to say after Sundays Cup Series race at Nashville Superspeedway in Lebanon, Tenn.:\\r\\nChase Elliott Winner: Just so proud of our team because we kind of had a setback (with a p… [+5895 chars]'},\n",
       " {'source': {'id': None, 'name': 'Mavs Moneyball'},\n",
       "  'author': 'Xavier Santos',\n",
       "  'title': 'The Mavericks are in a lose-lose situation with Jalen Brunson - Mavs Moneyball ',\n",
       "  'description': 'Handing Brunson a blank check would come with a ton of opportunity cost',\n",
       "  'url': 'https://www.mavsmoneyball.com/2022/6/27/23183260/the-mavericks-are-in-a-lose-lose-situation-with-jalen-brunson',\n",
       "  'urlToImage': 'https://cdn.vox-cdn.com/thumbor/K_4ZGSsPcmwVD14JkTbNLZkIE2M=/0x29:6048x3195/fit-in/1200x630/cdn.vox-cdn.com/uploads/chorus_asset/file/23651940/usa_today_18004386.jpg',\n",
       "  'publishedAt': '2022-06-27T05:00:00Z',\n",
       "  'content': \"It's impossible to tell fans of a team like the Dallas Mavericks that just made the Western Conference Finals that they are closer to being a first-round exit team than they are a title contender, bu… [+8494 chars]\"},\n",
       " {'source': {'id': None, 'name': 'hoopsrumors.com'},\n",
       "  'author': None,\n",
       "  'title': 'Atlantic Notes: Tsai, Irving, Nets, Celtics, Thybulle - hoopsrumors.com',\n",
       "  'description': \"As of Thursday night, Nets owner Joe Tsai was supporting general manager Sean Marks' decision not to offer Kyrie Irving &hellip;\",\n",
       "  'url': 'https://www.hoopsrumors.com/2022/06/atlantic-notes-tsai-irving-nets-celtics-thybulle.html',\n",
       "  'urlToImage': 'https://cdn.hoopsrumors.com/files/2021/09/Kyrie-Irving-Nets-900x600.jpg',\n",
       "  'publishedAt': '2022-06-27T04:20:00Z',\n",
       "  'content': 'As of Thursday night, Nets owner Joe Tsai was supporting general manager Sean Marks’ decision not to offer Kyrie Irving a max extension, according to Ian Begley of SNYtv. Irving has until June 29 to … [+1354 chars]'},\n",
       " {'source': {'id': None, 'name': 'Yahoo Entertainment'},\n",
       "  'author': 'Ryan Young',\n",
       "  'title': 'Report: Brittney Griner set for preliminary hearing in Russia on Monday - Yahoo Sports',\n",
       "  'description': 'Brittney Griner has been detained in Russia since Feb. 17.',\n",
       "  'url': 'https://sports.yahoo.com/report-brittney-griner-set-for-preliminary-hearing-in-russia-on-monday-025530805.html',\n",
       "  'urlToImage': 'https://s.yimg.com/ny/api/res/1.2/uWuZQTOAadyK3R8fPkfhSw--/YXBwaWQ9aGlnaGxhbmRlcjt3PTEyMDA7aD04MTE-/https://s.yimg.com/os/creatr-uploaded-images/2022-03/5c7949a0-9da5-11ec-bfdf-38a09d83e749',\n",
       "  'publishedAt': '2022-06-27T03:55:00Z',\n",
       "  'content': 'Phoenix Mercury star Brittney Griner will attend a preliminary hearing in Moscow on Monday morning, her lawyer told ABC News\\r\\n on Sunday night.\\r\\nGriner has already had her pre-trial detention extende… [+1502 chars]'},\n",
       " {'source': {'id': None, 'name': 'True Blue LA'},\n",
       "  'author': 'Eric Stephen',\n",
       "  'title': 'Dodgers offense strikes late for extra-inning comeback win over Braves - True Blue LA',\n",
       "  'description': 'The Dodgers were down to their last strike in the ninth, but rallied to score in three straight innings, beating the Braves for LA’s first extra-inning win of the season.',\n",
       "  'url': 'https://www.truebluela.com/2022/6/26/23184211/dodgers-comeback-kenley-jansen-extra-innings-chris-taylor-freddie-freeman-tony-gonsolin',\n",
       "  'urlToImage': 'https://cdn.vox-cdn.com/thumbor/n4ChhA3t9MSZXvp0XE4ofBclTc0=/0x0:3653x1913/fit-in/1200x630/cdn.vox-cdn.com/uploads/chorus_asset/file/23653486/1241557512.jpg',\n",
       "  'publishedAt': '2022-06-27T03:52:04Z',\n",
       "  'content': 'The Dodgers and Braves have been pretty evenly matched this season, so it was only natural that their final regular season matchup of 2022 needed extra extra innings to decide things. Down to their l… [+6337 chars]'},\n",
       " {'source': {'id': None, 'name': 'Cbslocal.com'},\n",
       "  'author': 'Ben Warwick',\n",
       "  'title': 'Avs Stanley Cup celebration, parade in Denver will take place June 30 - CBS Denver',\n",
       "  'description': 'The Avs will parade the Stanley Cup down 17th Street on Thursday to celebrate the win!',\n",
       "  'url': 'https://denver.cbslocal.com/2022/06/26/colorado-avalanche-denver-stanley-sup-celebration-parade-preparation/',\n",
       "  'urlToImage': 'https://denver.cbslocal.com/wp-content/uploads/sites/15909806/2022/06/GettyImages-1405333155.jpg?w=1500',\n",
       "  'publishedAt': '2022-06-27T03:30:00Z',\n",
       "  'content': '(CBS4) – The Stanley Cup Champion Colorado Avalanche will continue the celebration with a championship parade on Thursday, June 30th.\\r\\n(Photo by Bruce Bennett/Getty Images)\\r\\nThe pre-parade rally star… [+1838 chars]'},\n",
       " {'source': {'id': None, 'name': 'The Athletic'},\n",
       "  'author': 'Dan Hayes, Aaron Gleeman',\n",
       "  'title': 'Twins pitching coach Wes Johnson leaves abruptly for same job, big raise at LSU - The Athletic',\n",
       "  'description': \"Twins players and coaches learned the shocking news on the team's flight to Cleveland for the most important series of the season.\",\n",
       "  'url': 'https://theathletic.com/3385007/2022/06/26/twins-lsu-wes-johnson/',\n",
       "  'urlToImage': 'https://cdn.theathletic.com/app/uploads/2022/06/26230900/AP22178089734220-1024x683.jpg',\n",
       "  'publishedAt': '2022-06-27T03:11:15Z',\n",
       "  'content': 'Odd. Surreal. Weird. Confusing.\\r\\nThose were the terms used by members of the Twins’ traveling party Sunday evening to describe the 90-minute flight to Cleveland, when word leaked out that highly rega… [+5542 chars]'},\n",
       " {'source': {'id': None, 'name': 'Silver Screen and Roll '},\n",
       "  'author': 'Jacob Rude',\n",
       "  'title': 'NBA Rumors: Lakers interested in John Wall if bought out by Rockets - Silver Screen and Roll ',\n",
       "  'description': 'The Lakers’ love of non-shooting point guards appears to be continuing as they are reportedly interested in John Wall, should be be bought out.',\n",
       "  'url': 'https://www.silverscreenandroll.com/2022/6/26/23184264/lakers-john-wall-free-agent-rockets-buy-out-contract-offseason-rumors',\n",
       "  'urlToImage': 'https://cdn.vox-cdn.com/thumbor/s2IAsvb4v57tqSOJLWh3LnTN5fg=/0x0:3600x1885/fit-in/1200x630/cdn.vox-cdn.com/uploads/chorus_asset/file/23653277/1230565461.jpg',\n",
       "  'publishedAt': '2022-06-27T03:05:35Z',\n",
       "  'content': 'Everyone has a type, and the Lakers are no different. Some would think that the ideal type of point guard to put around LeBron James would be a shooter, The Lakers, though, have an obsession with pla… [+2612 chars]'},\n",
       " {'source': {'id': None, 'name': 'NBCSports.com'},\n",
       "  'author': None,\n",
       "  'title': \"Two reasons why Draymond Green says Warriors' San Francisco parade was best - NBC Sports\",\n",
       "  'description': \"Draymond Green explained why he would put the Warriors' parade in San Francisco above their three in Oakland.\",\n",
       "  'url': 'https://www.nbcsports.com/bayarea/warriors/two-reasons-why-draymond-green-says-warriors-san-francisco-parade-was-best',\n",
       "  'urlToImage': 'https://www.nbcsports.com/sites/rsnunited/files/styles/metatags_opengraph/public/article/hero/Steph-Curry-Draymond-Parade-Laughing-ALI.jpg',\n",
       "  'publishedAt': '2022-06-27T02:53:37Z',\n",
       "  'content': 'Draymond Green and the core Warriors players who won three NBA championships while the team resided in Oakland hold that city and Oracle Arena in special regard. They were sad to leave a place that h… [+3111 chars]'},\n",
       " {'source': {'id': None, 'name': 'MLSsoccer.com'},\n",
       "  'author': 'mlssoccer',\n",
       "  'title': 'LAFC are building a juggernaut, Cincinnati are the real deal & more from Week 16 | MLSSoccer.com - MLSsoccer.com',\n",
       "  'description': 'With the 2022 MLS season nearing its halfway mark, and the Secondary Transfer Window opening soon, ‘tis the season of change.\\nIn that spirit, the powers that be at MLSsoccer dot com subbed me in for Matt Doyle to wrap up the weekend. Just needed some fresh le…',\n",
       "  'url': 'https://www.mlssoccer.com/news/lafc-are-building-a-juggernaut-cincinnati-are-for-real-more-from-week-16',\n",
       "  'urlToImage': 'https://images.mlssoccer.com/image/private/t_q-best/prd-league/trqnzceh1mks9hhxyrjw.png',\n",
       "  'publishedAt': '2022-06-27T02:36:50Z',\n",
       "  'content': None},\n",
       " {'source': {'id': None, 'name': 'Yahoo Entertainment'},\n",
       "  'author': 'Charles Robinson',\n",
       "  'title': \"By leaking 1-year suspension target for Deshaun Watson, NFL is already applying pressure to case's arbitrator - Yahoo Sports\",\n",
       "  'description': 'If the arbitrator renders a suspension that is less than one year, will the NFL appeal? “I honestly think the NFL will go with what [Sue] Robinson decides,\" ...',\n",
       "  'url': 'https://sports.yahoo.com/by-leaking-1-year-suspension-target-for-deshaun-watson-nfl-is-already-applying-pressure-to-cases-arbitrator-013416595.html',\n",
       "  'urlToImage': 'https://s.yimg.com/ny/api/res/1.2/pEZ91kgQrFtF0dAUj6Vwww--/YXBwaWQ9aGlnaGxhbmRlcjt3PTEyMDA7aD03OTg-/https://s.yimg.com/os/creatr-uploaded-images/2022-06/eebebe90-f5b0-11ec-beff-6afd6993023f',\n",
       "  'publishedAt': '2022-06-27T02:34:00Z',\n",
       "  'content': 'HOUSTON Late last week, when details of the NFLs suspension stance in the Deshaun Watson investigation began to privately circulate between parties involved in the case, a source in the middle of it … [+7343 chars]'},\n",
       " {'source': {'id': None, 'name': 'New York Post'},\n",
       "  'author': 'Associated Press',\n",
       "  'title': 'LIV Golf receiving pushback in Oregon ahead of first tournament in US - New York Post ',\n",
       "  'description': 'Saudi Arabia-backed LIV Golf is getting a chilly reception in Oregon, its first stop in the United States.',\n",
       "  'url': 'https://nypost.com/2022/06/26/liv-golf-receiving-pushback-in-oregon-ahead-of-first-us-stop/',\n",
       "  'urlToImage': 'https://nypost.com/wp-content/uploads/sites/2/2022/06/newspress-collage-22815106-1656295873924.jpg?quality=75&strip=all&1656281583&w=1024',\n",
       "  'publishedAt': '2022-06-27T02:24:00Z',\n",
       "  'content': 'Saudi Arabia-backed LIV Golf is getting a chilly reception in Oregon, its first stop in the United States.\\xa0\\r\\nThis coming week, the series, which is paying enormous signing fees for players such as Ph… [+4748 chars]'},\n",
       " {'source': {'id': None, 'name': 'hoopsrumors.com'},\n",
       "  'author': None,\n",
       "  'title': 'Pacers Notes: Nembhard, Mathurin, Summer League, Trades - hoopsrumors.com',\n",
       "  'description': \"The Pacers selected\\xa0Andrew Nembhard with the No. 31 pick in Thursday's draft, adding to a young core that also includes &hellip;\",\n",
       "  'url': 'https://www.hoopsrumors.com/2022/06/pacers-notes-nembhard-mathurin-summer-league-trades.html',\n",
       "  'urlToImage': 'https://cdn.hoopsrumors.com/files/2021/10/USATSI_16960693-900x601.jpg',\n",
       "  'publishedAt': '2022-06-27T02:22:00Z',\n",
       "  'content': 'The Pacers selected\\xa0Andrew Nembhard with the No. 31 pick in Thursday’s draft, adding to a young core that also includes Tyrese Haliburton, No. 6 pick Bennedict Mathurin and others. As Gabby Hajduk of… [+1925 chars]'},\n",
       " {'source': {'id': 'the-washington-post', 'name': 'The Washington Post'},\n",
       "  'author': 'Adam Kilgore',\n",
       "  'title': 'Noah Lyles runs down Erriyon Knighton at US track championships - The Washington Post',\n",
       "  'description': 'At the U.S. track championships, Lyles refused to let young challenger Knighton take his crown in the 200.',\n",
       "  'url': 'https://www.washingtonpost.com/sports/olympics/2022/06/26/noah-lyles-erriyon-knighton-200-us-track-championships/',\n",
       "  'urlToImage': 'https://www.washingtonpost.com/wp-apps/imrs.php?src=https://arc-anglerfish-washpost-prod-washpost.s3.amazonaws.com/public/SYT5SJCSCFANVE5MOKH2HUU5BQ.jpg&w=1440',\n",
       "  'publishedAt': '2022-06-27T02:19:12Z',\n",
       "  'content': 'Placeholder while article actions load\\r\\nBefore Sunday afternoon, Noah Lyles had not settled into the blocks alongside a sprinter with a faster 200-meter personal best than him since early in his days… [+9063 chars]'},\n",
       " {'source': {'id': 'bleacher-report', 'name': 'Bleacher Report'},\n",
       "  'author': 'Scott Polacek',\n",
       "  'title': 'Jaden Rashada Reportedly Agreed to $9.5M NIL Contract With Miami Booster John Ruiz - Bleacher Report',\n",
       "  'description': 'Quarterback recruit Jaden Rashada is apparently going to get paid quite handsomely as he joins the Miami Hurricanes football program. <a...',\n",
       "  'url': 'https://bleacherreport.com/articles/10040029-jaden-rashada-reportedly-agreed-to-95m-nil-contract-with-miami-booster-john-ruiz',\n",
       "  'urlToImage': 'https://media.bleacherreport.com/image/upload/c_fill,g_faces,w_3800,h_3800,q_95/v1656295265/lld27uz4ryz5lijdhplh.jpg',\n",
       "  'publishedAt': '2022-06-27T02:15:00Z',\n",
       "  'content': 'Grant Halverson/Getty Images\\r\\nQuarterback recruit Jaden Rashada is apparently going to get paid quite handsomely as he joins the Miami Hurricanes football program.\\r\\nJeremy Crabtree of On3 reported th… [+1864 chars]'},\n",
       " {'source': {'id': None, 'name': 'ESPN'},\n",
       "  'author': 'Ryan McGee',\n",
       "  'title': \"Men's College World Series - Magical ride ends in first title for Ole Miss Rebels - ESPN\",\n",
       "  'description': \"For a team that wasn't sure if it would even make the 64-team postseason field, Ole Miss and its fans made themselves at home in Omaha, culminating in the first men's national title in school history.\",\n",
       "  'url': 'https://www.espn.com/college-baseball/story/_/id/34152993/men-college-world-series-magical-ride-ends-first-title-ole-miss-rebels',\n",
       "  'urlToImage': 'https://a.espncdn.com/combiner/i?img=%2Fphoto%2F2022%2F0626%2Fr1029431_1296x729_16%2D9.jpg',\n",
       "  'publishedAt': '2022-06-27T01:43:18Z',\n",
       "  'content': \"OMAHA, Neb. -- How does it feel to finally win a national championship?\\r\\nIt feels like sitting in the concourse of a ballpark you'd never been to before this day, 600 miles from home, wearing an Ole … [+7496 chars]\"}]"
      ]
     },
     "execution_count": 20,
     "metadata": {},
     "output_type": "execute_result"
    }
   ],
   "source": [
    "top_headlines['articles']"
   ]
  },
  {
   "cell_type": "code",
   "execution_count": 312,
   "id": "b0fd9356",
   "metadata": {},
   "outputs": [],
   "source": [
    "articles=top_headlines['articles']\n"
   ]
  },
  {
   "cell_type": "code",
   "execution_count": 313,
   "id": "df9f605b",
   "metadata": {
    "scrolled": true
   },
   "outputs": [
    {
     "name": "stdout",
     "output_type": "stream",
     "text": [
      "0 New Research Shows That Probiotics Can Help Alleviate Depression - SciTechDaily\n",
      "1 This Covid wave might be the start of our 'new normal,' experts say—here's what you need to know - CNBC\n",
      "2 After mastectomy some women don't want to replace their breasts - The Washington Post\n",
      "3 Eating 2 servings of fish a week linked to skin cancer risk: study - Insider\n",
      "4 Number of monkeypox cases grows, but U.S. officials say overall risk is low - The Washington Post\n",
      "5 Los Angeles County identifies 2 more probable cases of monkeypox, bringing region's total to 4 - KABC-TV\n",
      "6 Multi-country monkeypox outbreak: situation update - World Health Organization\n",
      "7 Retired Tacoma pastors lean on faith, family support after wife's Alzheimer's diagnosis - KOMO News\n",
      "8 I ignored a lump on my face — then was diagnosed with incurable lymphoma - New York Post \n",
      "9 COVID deaths in Florida: State leads the US in fatalities - Palm Beach Post\n",
      "10 Drumming Improves Behavior and Brain Function in Autistic Adolescents - Neuroscience News\n",
      "11 \"Lightning Crotch\" During Pregnancy Is Real - Here's What to Know - msnNOW\n",
      "12 The ah-ha moment when doctors realized first US patient in global outbreak had monkeypox: 'It wasn't initially on our radar screen' - CNN\n",
      "13 Multiple Heart-Related Conditions Linked to Triple Dementia Risk, Regardless of Genetics - Neuroscience News\n",
      "14 Study Shows Case of Likely Cat-to-Human Virus Spread, but Risk Remains Low - The New York Times\n",
      "15 DHEC urges residents to wear masks, get vaccinated - particularly in these counties - WLTX.com\n",
      "16 Great News About Potential Breakthroughs for FIV+ Cats Like Marmalade - Cole & Marmalade\n",
      "17 Connecticut woman dies from rare tick-borne virus in 2nd fatality this year in US - ABC News\n",
      "18 When we'll be able to 3D-print organs and who will be able to afford them - CNN\n",
      "19 If You Find Money on the Ground, Don't Pick It Up, Police Say - Best Life\n"
     ]
    }
   ],
   "source": [
    "for x,y in enumerate(articles):\n",
    "    print(f'{x} {y[\"title\"]}')"
   ]
  },
  {
   "cell_type": "code",
   "execution_count": 314,
   "id": "5a3f732e",
   "metadata": {
    "scrolled": false
   },
   "outputs": [
    {
     "name": "stdout",
     "output_type": "stream",
     "text": [
      "\n",
      "source          {'id': None, 'name': 'SciTechDaily'}\n",
      "\n",
      "author          None\n",
      "\n",
      "title           New Research Shows That Probiotics Can Help Alleviate Depression - SciTechDaily\n",
      "\n",
      "description     Good Bacteria To Tackle Depression Gut microbiome plays an important role in health – including mental health. Researchers from the University of Basel and the University Psychiatric Clinics Basel (UPK) have shown that probiotics can support the effect of ant…\n",
      "\n",
      "url             https://scitechdaily.com/new-research-shows-that-probiotics-can-help-alleviate-depression/\n",
      "\n",
      "urlToImage      https://scitechdaily.com/images/Probiotic-Supplements.jpg\n",
      "\n",
      "publishedAt     2022-06-11T14:33:55Z\n",
      "\n",
      "content         Good Bacteria To Tackle Depression\r\n",
      "Gut microbiome plays an important role in health including mental health. Researchers from the University of Basel and the University Psychiatric Clinics Basel (UP… [+5116 chars]\n"
     ]
    }
   ],
   "source": [
    "for key,value in articles[0].items():\n",
    "    print(f'\\n{key.ljust(15)} {value}')"
   ]
  },
  {
   "cell_type": "code",
   "execution_count": 315,
   "id": "199629b9",
   "metadata": {},
   "outputs": [
    {
     "data": {
      "text/html": [
       "<div>\n",
       "<style scoped>\n",
       "    .dataframe tbody tr th:only-of-type {\n",
       "        vertical-align: middle;\n",
       "    }\n",
       "\n",
       "    .dataframe tbody tr th {\n",
       "        vertical-align: top;\n",
       "    }\n",
       "\n",
       "    .dataframe thead th {\n",
       "        text-align: right;\n",
       "    }\n",
       "</style>\n",
       "<table border=\"1\" class=\"dataframe\">\n",
       "  <thead>\n",
       "    <tr style=\"text-align: right;\">\n",
       "      <th></th>\n",
       "      <th>source</th>\n",
       "      <th>author</th>\n",
       "      <th>title</th>\n",
       "      <th>description</th>\n",
       "      <th>url</th>\n",
       "      <th>urlToImage</th>\n",
       "      <th>publishedAt</th>\n",
       "      <th>content</th>\n",
       "    </tr>\n",
       "  </thead>\n",
       "  <tbody>\n",
       "    <tr>\n",
       "      <th>0</th>\n",
       "      <td>{'id': None, 'name': 'SciTechDaily'}</td>\n",
       "      <td>None</td>\n",
       "      <td>New Research Shows That Probiotics Can Help Al...</td>\n",
       "      <td>Good Bacteria To Tackle Depression Gut microbi...</td>\n",
       "      <td>https://scitechdaily.com/new-research-shows-th...</td>\n",
       "      <td>https://scitechdaily.com/images/Probiotic-Supp...</td>\n",
       "      <td>2022-06-11T14:33:55Z</td>\n",
       "      <td>Good Bacteria To Tackle Depression\\r\\nGut micr...</td>\n",
       "    </tr>\n",
       "    <tr>\n",
       "      <th>1</th>\n",
       "      <td>{'id': None, 'name': 'CNBC'}</td>\n",
       "      <td>Elizabeth Yuko, Special to CNBC</td>\n",
       "      <td>This Covid wave might be the start of our 'new...</td>\n",
       "      <td>According to experts, the current Covid-19 wav...</td>\n",
       "      <td>https://www.cnbc.com/2022/06/11/this-covid-wav...</td>\n",
       "      <td>https://image.cnbcfm.com/api/v1/image/10701268...</td>\n",
       "      <td>2022-06-11T13:00:01Z</td>\n",
       "      <td>Packed indoor events and fully booked flights ...</td>\n",
       "    </tr>\n",
       "    <tr>\n",
       "      <th>2</th>\n",
       "      <td>{'id': 'the-washington-post', 'name': 'The Was...</td>\n",
       "      <td>Fran Kritz</td>\n",
       "      <td>After mastectomy some women don't want to repl...</td>\n",
       "      <td>Several of those who sought the procedure say ...</td>\n",
       "      <td>https://www.washingtonpost.com/health/2022/06/...</td>\n",
       "      <td>https://www.washingtonpost.com/wp-apps/imrs.ph...</td>\n",
       "      <td>2022-06-11T11:17:52Z</td>\n",
       "      <td>During her training as a breast surgeon, Deann...</td>\n",
       "    </tr>\n",
       "    <tr>\n",
       "      <th>3</th>\n",
       "      <td>{'id': None, 'name': 'INSIDER'}</td>\n",
       "      <td>Gabby Landsverk</td>\n",
       "      <td>Eating 2 servings of fish a week linked to ski...</td>\n",
       "      <td>Diets high in fish like tuna are linked to a h...</td>\n",
       "      <td>https://www.insider.com/eating-fish-linked-to-...</td>\n",
       "      <td>https://i.insider.com/62a367575951670018779f79...</td>\n",
       "      <td>2022-06-11T05:30:17Z</td>\n",
       "      <td>Eating fish frequently may be linked to higher...</td>\n",
       "    </tr>\n",
       "    <tr>\n",
       "      <th>4</th>\n",
       "      <td>{'id': 'the-washington-post', 'name': 'The Was...</td>\n",
       "      <td>Dan Diamond</td>\n",
       "      <td>Number of monkeypox cases grows, but U.S. offi...</td>\n",
       "      <td>At least 45 cases of the viral illness have be...</td>\n",
       "      <td>https://www.washingtonpost.com/health/2022/06/...</td>\n",
       "      <td>https://www.washingtonpost.com/wp-apps/imrs.ph...</td>\n",
       "      <td>2022-06-11T00:25:00Z</td>\n",
       "      <td>Placeholder while article actions load\\r\\nBide...</td>\n",
       "    </tr>\n",
       "  </tbody>\n",
       "</table>\n",
       "</div>"
      ],
      "text/plain": [
       "                                              source  \\\n",
       "0               {'id': None, 'name': 'SciTechDaily'}   \n",
       "1                       {'id': None, 'name': 'CNBC'}   \n",
       "2  {'id': 'the-washington-post', 'name': 'The Was...   \n",
       "3                    {'id': None, 'name': 'INSIDER'}   \n",
       "4  {'id': 'the-washington-post', 'name': 'The Was...   \n",
       "\n",
       "                            author  \\\n",
       "0                             None   \n",
       "1  Elizabeth Yuko, Special to CNBC   \n",
       "2                       Fran Kritz   \n",
       "3                  Gabby Landsverk   \n",
       "4                      Dan Diamond   \n",
       "\n",
       "                                               title  \\\n",
       "0  New Research Shows That Probiotics Can Help Al...   \n",
       "1  This Covid wave might be the start of our 'new...   \n",
       "2  After mastectomy some women don't want to repl...   \n",
       "3  Eating 2 servings of fish a week linked to ski...   \n",
       "4  Number of monkeypox cases grows, but U.S. offi...   \n",
       "\n",
       "                                         description  \\\n",
       "0  Good Bacteria To Tackle Depression Gut microbi...   \n",
       "1  According to experts, the current Covid-19 wav...   \n",
       "2  Several of those who sought the procedure say ...   \n",
       "3  Diets high in fish like tuna are linked to a h...   \n",
       "4  At least 45 cases of the viral illness have be...   \n",
       "\n",
       "                                                 url  \\\n",
       "0  https://scitechdaily.com/new-research-shows-th...   \n",
       "1  https://www.cnbc.com/2022/06/11/this-covid-wav...   \n",
       "2  https://www.washingtonpost.com/health/2022/06/...   \n",
       "3  https://www.insider.com/eating-fish-linked-to-...   \n",
       "4  https://www.washingtonpost.com/health/2022/06/...   \n",
       "\n",
       "                                          urlToImage           publishedAt  \\\n",
       "0  https://scitechdaily.com/images/Probiotic-Supp...  2022-06-11T14:33:55Z   \n",
       "1  https://image.cnbcfm.com/api/v1/image/10701268...  2022-06-11T13:00:01Z   \n",
       "2  https://www.washingtonpost.com/wp-apps/imrs.ph...  2022-06-11T11:17:52Z   \n",
       "3  https://i.insider.com/62a367575951670018779f79...  2022-06-11T05:30:17Z   \n",
       "4  https://www.washingtonpost.com/wp-apps/imrs.ph...  2022-06-11T00:25:00Z   \n",
       "\n",
       "                                             content  \n",
       "0  Good Bacteria To Tackle Depression\\r\\nGut micr...  \n",
       "1  Packed indoor events and fully booked flights ...  \n",
       "2  During her training as a breast surgeon, Deann...  \n",
       "3  Eating fish frequently may be linked to higher...  \n",
       "4  Placeholder while article actions load\\r\\nBide...  "
      ]
     },
     "execution_count": 315,
     "metadata": {},
     "output_type": "execute_result"
    }
   ],
   "source": [
    "df=pd.DataFrame(articles)\n",
    "df.head(5)\n"
   ]
  },
  {
   "cell_type": "code",
   "execution_count": 316,
   "id": "131d76dd",
   "metadata": {},
   "outputs": [
    {
     "data": {
      "text/plain": [
       "'New Research Shows That Probiotics Can Help Alleviate Depression - SciTechDaily'"
      ]
     },
     "execution_count": 316,
     "metadata": {},
     "output_type": "execute_result"
    }
   ],
   "source": [
    "title=[]\n",
    "description=[]\n",
    "urlToImage=[]\n",
    "url=[]\n",
    "for i in articles:\n",
    "    title.append(i['title'])\n",
    "    description.append(i['description'])\n",
    "    urlToImage.append(i['urlToImage'])\n",
    "    url.append(i['url'])\n",
    "    \n",
    "title[0]"
   ]
  },
  {
   "cell_type": "code",
   "execution_count": 29,
   "id": "c56ea152",
   "metadata": {},
   "outputs": [
    {
     "data": {
      "text/plain": [
       "{'source': {'id': 'the-washington-post', 'name': 'The Washington Post'},\n",
       " 'author': 'Jamie Ross, Tess Homan',\n",
       " 'title': 'The 7 things you need to know for Monday, June 27 - The Washington Post',\n",
       " 'description': 'Catch up in minutes with these 7 stories.',\n",
       " 'url': 'https://www.washingtonpost.com/the-seven/2022/06/27/what-to-know-for-june-27/',\n",
       " 'urlToImage': 'https://www.washingtonpost.com/wp-apps/imrs.php?src=https://arc-anglerfish-washpost-prod-washpost.s3.amazonaws.com/public/LAILKXQKB5GJNC4G5LGNP5LHRE.png&w=1440',\n",
       " 'publishedAt': '2022-06-27T12:38:38Z',\n",
       " 'content': 'Ten states have already banned abortion, with more on the way.\\r\\n<ul><li>How we got here: The Supreme Court overturned Roe v. Wadeon Friday, ruling that the Constitution doesnt protect the right to an… [+2879 chars]'}"
      ]
     },
     "execution_count": 29,
     "metadata": {},
     "output_type": "execute_result"
    }
   ],
   "source": [
    "import requests\n",
    "\n",
    "url=\"https://newsapi.org/v2/top-headlines?country=us&apiKey=a8aa13889cd942c9b6c8fda8bef9fb90\"\n",
    "res=requests.get(url).json()\n",
    "a=res['articles']\n",
    "title=[]\n",
    "description=[]\n",
    "urlToImage=[]\n",
    "url=[]\n",
    "a[0]"
   ]
  },
  {
   "cell_type": "code",
   "execution_count": null,
   "id": "e82d7269",
   "metadata": {},
   "outputs": [],
   "source": []
  }
 ],
 "metadata": {
  "kernelspec": {
   "display_name": "Python 3 (ipykernel)",
   "language": "python",
   "name": "python3"
  },
  "language_info": {
   "codemirror_mode": {
    "name": "ipython",
    "version": 3
   },
   "file_extension": ".py",
   "mimetype": "text/x-python",
   "name": "python",
   "nbconvert_exporter": "python",
   "pygments_lexer": "ipython3",
   "version": "3.8.12"
  }
 },
 "nbformat": 4,
 "nbformat_minor": 5
}
