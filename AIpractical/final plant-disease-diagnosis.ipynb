{
 "cells": [
  {
   "cell_type": "markdown",
   "metadata": {
    "execution": {
     "iopub.execute_input": "2022-05-14T15:20:22.795259Z",
     "iopub.status.busy": "2022-05-14T15:20:22.794660Z",
     "iopub.status.idle": "2022-05-14T15:20:22.802850Z",
     "shell.execute_reply": "2022-05-14T15:20:22.801031Z",
     "shell.execute_reply.started": "2022-05-14T15:20:22.795219Z"
    },
    "id": "aB3sVbgF5BCT"
   },
   "source": [
    "# Import Packages"
   ]
  },
  {
   "cell_type": "code",
   "execution_count": null,
   "metadata": {},
   "outputs": [],
   "source": [
    "import cv2\n",
    "import os\n",
    "import time\n",
    "import itertools\n",
    "import numpy as np\n",
    "import pandas as pd\n",
    "from glob import glob\n",
    "import tensorflow as tf\n",
    "from tensorflow import keras\n",
    "import matplotlib.pyplot as plt\n",
    "from tensorflow.keras.models import Model\n",
    "from tensorflow.keras.preprocessing import image\n",
    "from tensorflow.keras.callbacks import EarlyStopping\n",
    "from tensorflow.keras.preprocessing.image import ImageDataGenerator\n",
    "from tensorflow.keras.layers import Input, Dense, Flatten, GlobalAveragePooling2D\n",
    "from sklearn.metrics import classification_report, confusion_matrix, accuracy_score\n",
    "from tensorflow.keras.applications.efficientnet import EfficientNetB7  as PretrainedModel, preprocess_input,decode_predictions"
   ]
  },
  {
   "cell_type": "code",
   "execution_count": 64,
   "metadata": {
    "execution": {
     "iopub.execute_input": "2022-05-14T15:20:27.146617Z",
     "iopub.status.busy": "2022-05-14T15:20:27.146365Z",
     "iopub.status.idle": "2022-05-14T15:21:06.042335Z",
     "shell.execute_reply": "2022-05-14T15:21:06.039817Z",
     "shell.execute_reply.started": "2022-05-14T15:20:27.146591Z"
    },
    "id": "zIrL2dS2AVuG",
    "outputId": "a8fdde92-23c9-49b5-93aa-c924ddb32786"
   },
   "outputs": [],
   "source": [
    "# dataset path on kaggle\n",
    "data_dir = '../input/new-plant-diseases-dataset/New Plant Diseases Dataset(Augmented)/New Plant Diseases Dataset(Augmented)/train'\n",
    "\n",
    "# 80-20 Split\n",
    "data = ImageDataGenerator(validation_split = 0.20)\n",
    "\n",
    "BATCH_SIZE = 64\n",
    "\n",
    "transfer leaening\n",
    "\n",
    "# image size 224 x 224 -- The minimum for EfficientNetB7\n",
    "X = Y = 224\n",
    "\n",
    "# handle dataset \n",
    "training = data.flow_from_directory(data_dir,\n",
    "                                    class_mode = \"categorical\", # for more classes\n",
    "                                    target_size = (X, Y),\n",
    "                                    color_mode=\"rgb\",\n",
    "                                    batch_size = BATCH_SIZE, \n",
    "                                    shuffle = False,\n",
    "                                    subset='training',\n",
    "                                    seed = 101)\n",
    "\n",
    "validation = data.flow_from_directory(data_dir,\n",
    "                                      class_mode = \"categorical\",\n",
    "                                      target_size = (X, Y),\n",
    "                                      color_mode=\"rgb\",\n",
    "                                      batch_size = BATCH_SIZE, \n",
    "                                      shuffle = False,\n",
    "                                      subset='validation',\n",
    "                                      seed = 101)"
   ]
  },
  {
   "cell_type": "code",
   "execution_count": 67,
   "metadata": {
    "execution": {
     "iopub.execute_input": "2022-05-14T15:21:17.705374Z",
     "iopub.status.busy": "2022-05-14T15:21:17.705183Z",
     "iopub.status.idle": "2022-05-14T15:21:22.946693Z",
     "shell.execute_reply": "2022-05-14T15:21:22.945987Z",
     "shell.execute_reply.started": "2022-05-14T15:21:17.705351Z"
    },
    "id": "lCE5mz4xAk54",
    "outputId": "8e95edd8-9be1-4747-e1a0-4ed38a6370ef"
   },
   "outputs": [],
   "source": [
    "# build model\n",
    "\n",
    "ptm = PretrainedModel(\n",
    "    input_shape=(X, Y, 3),\n",
    "    weights='imagenet',\n",
    "    include_top=False)\n",
    "\n",
    "ptm.trainable = False\n",
    "x = GlobalAveragePooling2D()(ptm.output)\n",
    "x = Flatten()(x)\n",
    "x = Dense(512, activation='relu')(x)\n",
    "x = Dense(256, activation='relu')(x)\n",
    "x = tf.keras.layers.Dropout(.2)(x)\n",
    "\n",
    "x = Dense(128, activation='relu')(x)\n",
    "x = Dense(64, activation='relu')(x)\n",
    "x = tf.keras.layers.Dropout(.2)(x)\n",
    "\n",
    "y = Dense(38, activation='softmax')(x)\n",
    "\n",
    "model = Model(inputs=ptm.input, outputs=y);"
   ]
  },
  {
   "cell_type": "code",
   "execution_count": 68,
   "metadata": {
    "execution": {
     "iopub.execute_input": "2022-05-14T15:21:22.948223Z",
     "iopub.status.busy": "2022-05-14T15:21:22.947977Z",
     "iopub.status.idle": "2022-05-14T15:21:23.293181Z",
     "shell.execute_reply": "2022-05-14T15:21:23.292424Z",
     "shell.execute_reply.started": "2022-05-14T15:21:22.948191Z"
    },
    "id": "puEC6acFAs3u",
    "outputId": "766467ba-8095-4c9f-f325-b229e77241d8"
   },
   "outputs": [],
   "source": [
    "model.compile(\n",
    "  loss='categorical_crossentropy', # to know loss\n",
    "  optimizer='adam', # to optimize loss\n",
    "  metrics=['accuracy']\n",
    ")\n",
    "model.summary()"
   ]
  },
  {
   "cell_type": "code",
   "execution_count": 69,
   "metadata": {
    "execution": {
     "iopub.execute_input": "2022-05-14T15:21:23.294809Z",
     "iopub.status.busy": "2022-05-14T15:21:23.294530Z",
     "iopub.status.idle": "2022-05-14T15:21:23.300993Z",
     "shell.execute_reply": "2022-05-14T15:21:23.299547Z",
     "shell.execute_reply.started": "2022-05-14T15:21:23.294769Z"
    },
    "id": "BJpbxMcWAbZT"
   },
   "outputs": [],
   "source": [
    "es = EarlyStopping(monitor='val_loss', patience=5)\n",
    "#os.mkdir('./check_point')\n",
    "\n",
    "cp = tf.keras.callbacks.ModelCheckpoint(\n",
    "    filepath='./check_point/best_weight.hdf5',\n",
    "    save_weights_only=True,\n",
    "    monitor='val_accuracy',\n",
    "    mode='max',\n",
    "    save_best_only=True)"
   ]
  },
  {
   "cell_type": "code",
   "execution_count": null,
   "metadata": {
    "execution": {
     "iopub.execute_input": "2022-05-14T09:10:52.275109Z",
     "iopub.status.busy": "2022-05-14T09:10:52.274703Z",
     "iopub.status.idle": "2022-05-14T12:59:56.381085Z",
     "shell.execute_reply": "2022-05-14T12:59:56.38024Z",
     "shell.execute_reply.started": "2022-05-14T09:10:52.275077Z"
    },
    "id": "t2MPpvLVAzyi",
    "outputId": "91e29a22-4e7e-4ff5-f369-d34e7de0178c"
   },
   "outputs": [],
   "source": [
    "history = model.fit(\n",
    "    training,\n",
    "    validation_data=validation,\n",
    "    epochs=30,\n",
    "    callbacks=[es,cp])"
   ]
  },
  {
   "cell_type": "code",
   "execution_count": 70,
   "metadata": {
    "execution": {
     "iopub.execute_input": "2022-05-14T15:21:23.302915Z",
     "iopub.status.busy": "2022-05-14T15:21:23.302529Z",
     "iopub.status.idle": "2022-05-14T15:21:23.629425Z",
     "shell.execute_reply": "2022-05-14T15:21:23.628793Z",
     "shell.execute_reply.started": "2022-05-14T15:21:23.302876Z"
    },
    "id": "YXtOHnhERktZ",
    "outputId": "d45fb54f-398a-4d2f-8601-342ac9204ad2"
   },
   "outputs": [],
   "source": [
    "acc = history.history['accuracy']\n",
    "val_acc = history.history['val_accuracy']\n",
    "loss = history.history['loss']\n",
    "val_loss = history.history['val_loss']\n",
    "\n",
    "plt.figure(figsize=(10, 10))\n",
    "plt.subplot(2, 1, 1)\n",
    "\n",
    "plt.plot(acc, label='Training Accuracy', color='r')\n",
    "plt.plot(val_acc, label='Validation Accuracy', color='b')\n",
    "plt.xticks(fontsize=14)\n",
    "plt.yticks(fontsize=14)\n",
    "plt.legend(loc='lower right', fontsize=13)\n",
    "plt.ylabel('Accuracy', fontsize=16, weight='bold')\n",
    "plt.title('Training & Validation Acc.', fontsize=16, weight='bold')\n",
    "\n",
    "plt.subplot(2, 1, 2)\n",
    "plt.plot(loss, label='Training Loss', color='r')\n",
    "plt.plot(val_loss, label='Validation Loss', color='b')\n",
    "plt.xticks(fontsize=14)\n",
    "plt.yticks(fontsize=14)\n",
    "plt.legend(loc='upper right', fontsize=13)\n",
    "plt.ylabel('Cross Entropy', fontsize=16, weight='bold')\n",
    "plt.title('Training & Validation Loss', fontsize=15, weight='bold')\n",
    "plt.xlabel('Epoch', fontsize=15, weight='bold')\n",
    "plt.show()"
   ]
  },
  {
   "cell_type": "code",
   "execution_count": 71,
   "metadata": {
    "execution": {
     "iopub.execute_input": "2022-05-14T15:21:23.630989Z",
     "iopub.status.busy": "2022-05-14T15:21:23.630615Z",
     "iopub.status.idle": "2022-05-14T15:22:53.723986Z",
     "shell.execute_reply": "2022-05-14T15:22:53.720821Z",
     "shell.execute_reply.started": "2022-05-14T15:21:23.630953Z"
    },
    "id": "il0WyOcbpvtq",
    "outputId": "e5c084bd-7b7a-4014-d982-fb27e7a41694"
   },
   "outputs": [],
   "source": [
    "from sklearn.metrics import classification_report\n",
    "\n",
    "Y_pred = model.predict(validation)\n",
    "y_pred = np.argmax(Y_pred, axis=1)\n",
    "\n",
    "print(classification_report(validation.classes, y_pred))"
   ]
  },
  {
   "cell_type": "code",
   "execution_count": 75,
   "metadata": {
    "execution": {
     "iopub.execute_input": "2022-05-14T15:30:35.748481Z",
     "iopub.status.busy": "2022-05-14T15:30:35.747827Z",
     "iopub.status.idle": "2022-05-14T15:30:42.221223Z",
     "shell.execute_reply": "2022-05-14T15:30:42.220576Z",
     "shell.execute_reply.started": "2022-05-14T15:30:35.748443Z"
    },
    "id": "zYqUK5Lrp3rr",
    "outputId": "3e4068cb-8a0a-47a4-8d52-b687550fa9a4"
   },
   "outputs": [],
   "source": [
    "def plot_confusion_matrix(cm, classes,\n",
    "                          normalize=False,\n",
    "                          title='Confusion matrix',\n",
    "                          cmap=plt.cm.Blues):\n",
    "    if normalize:\n",
    "        cm = cm.astype('float') / cm.sum(axis=1)[:, np.newaxis]\n",
    "        print(\"Normalized confusion matrix\")\n",
    "    else:\n",
    "        print('Confusion matrix, without normalization')\n",
    "\n",
    "    plt.imshow(cm, interpolation='nearest', cmap=cmap)\n",
    "    plt.title(title, weight='bold', fontsize=16)\n",
    "    tick_marks = np.arange(len(classes))\n",
    "    plt.xticks(tick_marks, classes, fontsize=14)\n",
    "    plt.yticks(tick_marks, classes, fontsize=14)\n",
    "\n",
    "    fmt = '.2f' if normalize else 'd'\n",
    "    thresh = cm.max() / 2.\n",
    "    for i, j in itertools.product(range(cm.shape[0]), range(cm.shape[1])):\n",
    "        plt.text(j, i, format(cm[i, j], fmt),\n",
    "                 horizontalalignment=\"center\", fontsize=12, weight='bold',\n",
    "                 color=\"white\" if cm[i, j] > thresh else \"black\")\n",
    "    plt.tight_layout()\n",
    "    plt.ylabel('True label', fontsize=16, weight='bold')\n",
    "    plt.xlabel('Predicted label', fontsize=16, weight='bold')\n",
    "\n",
    "# Compute confusion matrix\n",
    "cnf_matrix = confusion_matrix(validation.classes, y_pred)\n",
    "np.set_printoptions(precision=2)\n",
    "\n",
    "# Plot non-normalized confusion matrix\n",
    "plt.figure(figsize=(50, 50))\n",
    "plot_confusion_matrix(cnf_matrix, classes=['colon_aca', 'colon_n', 'lung_aca', 'lung_n', 'lung_scc'],normalize=True,\n",
    "                      title='Normalized Confusion Matrix')\n",
    "plt.show()"
   ]
  },
  {
   "cell_type": "code",
   "execution_count": null,
   "metadata": {
    "execution": {
     "iopub.execute_input": "2022-05-14T13:03:56.699488Z",
     "iopub.status.busy": "2022-05-14T13:03:56.69923Z",
     "iopub.status.idle": "2022-05-14T13:03:58.20315Z",
     "shell.execute_reply": "2022-05-14T13:03:58.202369Z",
     "shell.execute_reply.started": "2022-05-14T13:03:56.699458Z"
    }
   },
   "outputs": [],
   "source": [
    "model.save('./plant_disease_classifier.h5')\n",
    "print('Model Saved!')"
   ]
  },
  {
   "cell_type": "code",
   "execution_count": null,
   "metadata": {
    "execution": {
     "iopub.execute_input": "2022-05-14T13:24:30.191275Z",
     "iopub.status.busy": "2022-05-14T13:24:30.191026Z",
     "iopub.status.idle": "2022-05-14T13:24:30.19897Z",
     "shell.execute_reply": "2022-05-14T13:24:30.198223Z",
     "shell.execute_reply.started": "2022-05-14T13:24:30.191247Z"
    }
   },
   "outputs": [],
   "source": [
    "from IPython.display import FileLink \n",
    "FileLink(r'plant_disease_classifier.h5')\n"
   ]
  },
  {
   "cell_type": "code",
   "execution_count": null,
   "metadata": {
    "execution": {
     "iopub.execute_input": "2022-05-14T13:29:36.820216Z",
     "iopub.status.busy": "2022-05-14T13:29:36.819709Z",
     "iopub.status.idle": "2022-05-14T13:29:36.824552Z",
     "shell.execute_reply": "2022-05-14T13:29:36.823403Z",
     "shell.execute_reply.started": "2022-05-14T13:29:36.820169Z"
    }
   },
   "outputs": [],
   "source": [
    "from tensorflow.keras.models import load_model"
   ]
  },
  {
   "cell_type": "code",
   "execution_count": null,
   "metadata": {
    "execution": {
     "iopub.execute_input": "2022-05-14T13:35:34.691513Z",
     "iopub.status.busy": "2022-05-14T13:35:34.690783Z",
     "iopub.status.idle": "2022-05-14T13:35:41.264714Z",
     "shell.execute_reply": "2022-05-14T13:35:41.263998Z",
     "shell.execute_reply.started": "2022-05-14T13:35:34.691476Z"
    }
   },
   "outputs": [],
   "source": [
    "# load model\n",
    "savedModel=load_model('./plant_disease_classifier.h5')\n",
    "#savedModel.summary()"
   ]
  },
  {
   "cell_type": "code",
   "execution_count": 59,
   "metadata": {
    "execution": {
     "iopub.execute_input": "2022-05-14T15:10:44.650158Z",
     "iopub.status.busy": "2022-05-14T15:10:44.649903Z",
     "iopub.status.idle": "2022-05-14T15:10:44.653724Z",
     "shell.execute_reply": "2022-05-14T15:10:44.653024Z",
     "shell.execute_reply.started": "2022-05-14T15:10:44.650130Z"
    }
   },
   "outputs": [],
   "source": [
    "img_path='../input/new-plant-diseases-dataset/New Plant Diseases Dataset(Augmented)/New Plant Diseases Dataset(Augmented)/train/Apple___Black_rot/0090d05d-d797-4c99-abd4-3b9cb323a5fd___JR_FrgE.S 8727.JPG'"
   ]
  },
  {
   "cell_type": "code",
   "execution_count": 61,
   "metadata": {
    "execution": {
     "iopub.execute_input": "2022-05-14T15:16:54.365628Z",
     "iopub.status.busy": "2022-05-14T15:16:54.365123Z",
     "iopub.status.idle": "2022-05-14T15:16:54.375287Z",
     "shell.execute_reply": "2022-05-14T15:16:54.374560Z",
     "shell.execute_reply.started": "2022-05-14T15:16:54.365592Z"
    }
   },
   "outputs": [],
   "source": [
    "plant_classes=os.listdir('../input/new-plant-diseases-dataset/New Plant Diseases Dataset(Augmented)/New Plant Diseases Dataset(Augmented)/train')"
   ]
  },
  {
   "cell_type": "code",
   "execution_count": 62,
   "metadata": {
    "execution": {
     "iopub.execute_input": "2022-05-14T15:17:05.352315Z",
     "iopub.status.busy": "2022-05-14T15:17:05.352064Z",
     "iopub.status.idle": "2022-05-14T15:17:05.357804Z",
     "shell.execute_reply": "2022-05-14T15:17:05.356998Z",
     "shell.execute_reply.started": "2022-05-14T15:17:05.352289Z"
    }
   },
   "outputs": [],
   "source": [
    "plant_classes"
   ]
  },
  {
   "cell_type": "code",
   "execution_count": 60,
   "metadata": {
    "execution": {
     "iopub.execute_input": "2022-05-14T15:10:49.984415Z",
     "iopub.status.busy": "2022-05-14T15:10:49.983668Z",
     "iopub.status.idle": "2022-05-14T15:10:50.072812Z",
     "shell.execute_reply": "2022-05-14T15:10:50.072148Z",
     "shell.execute_reply.started": "2022-05-14T15:10:49.984376Z"
    }
   },
   "outputs": [],
   "source": [
    "img = image.load_img(img_path, target_size=(224, 224))\n",
    "img_array = image.img_to_array(img)\n",
    "img_batch = np.expand_dims(img_array, axis=0)\n",
    "img_preprocessed = preprocess_input(img_batch)\n",
    "prediction = savedModel.predict(img_preprocessed)\n",
    "#print(decode_predictions(prediction, top=3)[0])\n",
    "#print(prediction)\n",
    "y_pred = np.argmax(prediction, axis=1)\n",
    "plant_classes[y_pred[0]]"
   ]
  }
 ],
 "metadata": {
  "kernelspec": {
   "display_name": "Python 3 (ipykernel)",
   "language": "python",
   "name": "python3"
  },
  "language_info": {
   "codemirror_mode": {
    "name": "ipython",
    "version": 3
   },
   "file_extension": ".py",
   "mimetype": "text/x-python",
   "name": "python",
   "nbconvert_exporter": "python",
   "pygments_lexer": "ipython3",
   "version": "3.8.13"
  }
 },
 "nbformat": 4,
 "nbformat_minor": 4
}
